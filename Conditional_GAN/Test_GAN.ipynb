{
 "cells": [
  {
   "cell_type": "code",
   "execution_count": 52,
   "metadata": {},
   "outputs": [],
   "source": [
    "import argparse\n",
    "import shutil\n",
    "\n",
    "import numpy as np\n",
    "import torch\n",
    "from torch.autograd import Variable, grad\n",
    "from torch.nn.init import xavier_normal\n",
    "from torchvision import datasets, transforms\n",
    "import torchvision.utils as vutils\n",
    "import pandas as pd\n",
    "from data import *\n",
    "from bigmodels import *\n",
    "from util import *\n",
    "import time"
   ]
  },
  {
   "cell_type": "code",
   "execution_count": 53,
   "metadata": {},
   "outputs": [],
   "source": [
    "generator = Generator()\n",
    "generator.apply(weights_init)\n",
    "checkpoint = torch.load('./models_big/Epoch:_042.pt')\n",
    "generator.load_state_dict(checkpoint['g_state_dict'])\n",
    "generator = generator.cuda()"
   ]
  },
  {
   "cell_type": "code",
   "execution_count": 54,
   "metadata": {},
   "outputs": [],
   "source": [
    "def edit(tar):\n",
    "    allone = [1.0 for i in range(32)]\n",
    "    allzero =[0.0 for i in range(32)]\n",
    "    out = []\n",
    "    for i in tar:\n",
    "        tmp = []\n",
    "        for j in range(4):\n",
    "            if j == i:\n",
    "                tmp += allzero\n",
    "            else:\n",
    "                tmp += allone\n",
    "        out.append(tmp)\n",
    "    out = torch.FloatTensor(out)\n",
    "    return out.cuda()"
   ]
  },
  {
   "cell_type": "code",
   "execution_count": 55,
   "metadata": {},
   "outputs": [],
   "source": [
    "def get_image(model,target):\n",
    "    #target = np.array(target)\n",
    "    tags = torch.FloatTensor(target).cuda()\n",
    "    target = np.array(target)\n",
    "    batch_size = target.shape[0]\n",
    "    embedding = nn.Embedding(batch_size,128).cuda()\n",
    "    max_tag = np.argmax(target,axis = 1)\n",
    "  \n",
    "    z = Variable(torch.FloatTensor(batch_size, 128))\n",
    "    z = z.cuda()\n",
    "    z.data.fill_(0.0)\n",
    "    z.data.normal_(0, 1)\n",
    "\n",
    "    tag = torch.LongTensor(max_tag).cuda()\n",
    "    embed = embedding(tag).view(batch_size,-1).cuda()\n",
    "    xx = z.mul(embed)\n",
    "    factor = edit(max_tag)\n",
    "    x = xx.mul(factor)\n",
    "    print(x.data)\n",
    "    print(tags.data)\n",
    "    \n",
    "    rep = torch.cat((x, tags.clone()), 1)\n",
    "    print(rep.data[0])\n",
    "    fake = model.forward(rep).detach()\n",
    "    return fake"
   ]
  },
  {
   "cell_type": "code",
   "execution_count": 56,
   "metadata": {},
   "outputs": [],
   "source": [
    "batch_size = 64"
   ]
  },
  {
   "cell_type": "code",
   "execution_count": 57,
   "metadata": {},
   "outputs": [],
   "source": [
    "k = 0"
   ]
  },
  {
   "cell_type": "code",
   "execution_count": 58,
   "metadata": {},
   "outputs": [],
   "source": [
    "tag = [[1 if _ == k else 0 for _ in range(4)] for i in range(batch_size)]"
   ]
  },
  {
   "cell_type": "code",
   "execution_count": 59,
   "metadata": {},
   "outputs": [
    {
     "data": {
      "text/plain": [
       "[[1, 0, 0, 0],\n",
       " [1, 0, 0, 0],\n",
       " [1, 0, 0, 0],\n",
       " [1, 0, 0, 0],\n",
       " [1, 0, 0, 0],\n",
       " [1, 0, 0, 0],\n",
       " [1, 0, 0, 0],\n",
       " [1, 0, 0, 0],\n",
       " [1, 0, 0, 0],\n",
       " [1, 0, 0, 0],\n",
       " [1, 0, 0, 0],\n",
       " [1, 0, 0, 0],\n",
       " [1, 0, 0, 0],\n",
       " [1, 0, 0, 0],\n",
       " [1, 0, 0, 0],\n",
       " [1, 0, 0, 0],\n",
       " [1, 0, 0, 0],\n",
       " [1, 0, 0, 0],\n",
       " [1, 0, 0, 0],\n",
       " [1, 0, 0, 0],\n",
       " [1, 0, 0, 0],\n",
       " [1, 0, 0, 0],\n",
       " [1, 0, 0, 0],\n",
       " [1, 0, 0, 0],\n",
       " [1, 0, 0, 0],\n",
       " [1, 0, 0, 0],\n",
       " [1, 0, 0, 0],\n",
       " [1, 0, 0, 0],\n",
       " [1, 0, 0, 0],\n",
       " [1, 0, 0, 0],\n",
       " [1, 0, 0, 0],\n",
       " [1, 0, 0, 0],\n",
       " [1, 0, 0, 0],\n",
       " [1, 0, 0, 0],\n",
       " [1, 0, 0, 0],\n",
       " [1, 0, 0, 0],\n",
       " [1, 0, 0, 0],\n",
       " [1, 0, 0, 0],\n",
       " [1, 0, 0, 0],\n",
       " [1, 0, 0, 0],\n",
       " [1, 0, 0, 0],\n",
       " [1, 0, 0, 0],\n",
       " [1, 0, 0, 0],\n",
       " [1, 0, 0, 0],\n",
       " [1, 0, 0, 0],\n",
       " [1, 0, 0, 0],\n",
       " [1, 0, 0, 0],\n",
       " [1, 0, 0, 0],\n",
       " [1, 0, 0, 0],\n",
       " [1, 0, 0, 0],\n",
       " [1, 0, 0, 0],\n",
       " [1, 0, 0, 0],\n",
       " [1, 0, 0, 0],\n",
       " [1, 0, 0, 0],\n",
       " [1, 0, 0, 0],\n",
       " [1, 0, 0, 0],\n",
       " [1, 0, 0, 0],\n",
       " [1, 0, 0, 0],\n",
       " [1, 0, 0, 0],\n",
       " [1, 0, 0, 0],\n",
       " [1, 0, 0, 0],\n",
       " [1, 0, 0, 0],\n",
       " [1, 0, 0, 0],\n",
       " [1, 0, 0, 0]]"
      ]
     },
     "execution_count": 59,
     "metadata": {},
     "output_type": "execute_result"
    }
   ],
   "source": [
    "tag"
   ]
  },
  {
   "cell_type": "code",
   "execution_count": 60,
   "metadata": {},
   "outputs": [
    {
     "name": "stdout",
     "output_type": "stream",
     "text": [
      "tensor([[-0.0000, -0.0000,  0.0000,  ...,  0.2687, -0.3329, -0.7485],\n",
      "        [-0.0000, -0.0000,  0.0000,  ...,  1.6458,  0.0922,  0.4190],\n",
      "        [ 0.0000,  0.0000, -0.0000,  ..., -0.3017, -0.9919, -0.9196],\n",
      "        ...,\n",
      "        [-0.0000, -0.0000,  0.0000,  ..., -2.9117, -1.0355, -0.9500],\n",
      "        [ 0.0000, -0.0000, -0.0000,  ...,  0.5999, -0.0467, -0.6302],\n",
      "        [-0.0000,  0.0000,  0.0000,  ..., -0.1360,  0.2025,  0.7845]],\n",
      "       device='cuda:0')\n",
      "tensor([[1., 0., 0., 0.],\n",
      "        [1., 0., 0., 0.],\n",
      "        [1., 0., 0., 0.],\n",
      "        [1., 0., 0., 0.],\n",
      "        [1., 0., 0., 0.],\n",
      "        [1., 0., 0., 0.],\n",
      "        [1., 0., 0., 0.],\n",
      "        [1., 0., 0., 0.],\n",
      "        [1., 0., 0., 0.],\n",
      "        [1., 0., 0., 0.],\n",
      "        [1., 0., 0., 0.],\n",
      "        [1., 0., 0., 0.],\n",
      "        [1., 0., 0., 0.],\n",
      "        [1., 0., 0., 0.],\n",
      "        [1., 0., 0., 0.],\n",
      "        [1., 0., 0., 0.],\n",
      "        [1., 0., 0., 0.],\n",
      "        [1., 0., 0., 0.],\n",
      "        [1., 0., 0., 0.],\n",
      "        [1., 0., 0., 0.],\n",
      "        [1., 0., 0., 0.],\n",
      "        [1., 0., 0., 0.],\n",
      "        [1., 0., 0., 0.],\n",
      "        [1., 0., 0., 0.],\n",
      "        [1., 0., 0., 0.],\n",
      "        [1., 0., 0., 0.],\n",
      "        [1., 0., 0., 0.],\n",
      "        [1., 0., 0., 0.],\n",
      "        [1., 0., 0., 0.],\n",
      "        [1., 0., 0., 0.],\n",
      "        [1., 0., 0., 0.],\n",
      "        [1., 0., 0., 0.],\n",
      "        [1., 0., 0., 0.],\n",
      "        [1., 0., 0., 0.],\n",
      "        [1., 0., 0., 0.],\n",
      "        [1., 0., 0., 0.],\n",
      "        [1., 0., 0., 0.],\n",
      "        [1., 0., 0., 0.],\n",
      "        [1., 0., 0., 0.],\n",
      "        [1., 0., 0., 0.],\n",
      "        [1., 0., 0., 0.],\n",
      "        [1., 0., 0., 0.],\n",
      "        [1., 0., 0., 0.],\n",
      "        [1., 0., 0., 0.],\n",
      "        [1., 0., 0., 0.],\n",
      "        [1., 0., 0., 0.],\n",
      "        [1., 0., 0., 0.],\n",
      "        [1., 0., 0., 0.],\n",
      "        [1., 0., 0., 0.],\n",
      "        [1., 0., 0., 0.],\n",
      "        [1., 0., 0., 0.],\n",
      "        [1., 0., 0., 0.],\n",
      "        [1., 0., 0., 0.],\n",
      "        [1., 0., 0., 0.],\n",
      "        [1., 0., 0., 0.],\n",
      "        [1., 0., 0., 0.],\n",
      "        [1., 0., 0., 0.],\n",
      "        [1., 0., 0., 0.],\n",
      "        [1., 0., 0., 0.],\n",
      "        [1., 0., 0., 0.],\n",
      "        [1., 0., 0., 0.],\n",
      "        [1., 0., 0., 0.],\n",
      "        [1., 0., 0., 0.],\n",
      "        [1., 0., 0., 0.]], device='cuda:0')\n",
      "tensor([-0.0000, -0.0000,  0.0000,  0.0000, -0.0000, -0.0000,  0.0000,  0.0000,\n",
      "         0.0000,  0.0000, -0.0000,  0.0000, -0.0000,  0.0000, -0.0000, -0.0000,\n",
      "        -0.0000,  0.0000, -0.0000,  0.0000,  0.0000,  0.0000,  0.0000, -0.0000,\n",
      "        -0.0000, -0.0000,  0.0000,  0.0000, -0.0000,  0.0000,  0.0000, -0.0000,\n",
      "        -1.3261,  0.0545,  0.0963,  2.5076,  1.1772, -0.2557,  0.2794, -0.1887,\n",
      "        -1.0719,  1.2783, -0.1408,  0.3806,  3.6481,  0.2004, -0.0698, -0.0742,\n",
      "         0.5212,  0.0316,  1.5280, -0.5056,  0.6762,  0.0432,  0.1738,  1.7148,\n",
      "         0.8083, -0.0550, -0.0489,  0.3139,  0.0250, -0.2186,  0.7595, -0.6244,\n",
      "         0.0056,  0.4808,  0.6285,  4.4603, -1.1591, -0.1701,  2.3041, -1.3706,\n",
      "         0.1606,  1.1293,  2.5557, -0.6590, -0.6004,  0.6526,  0.6317,  0.3552,\n",
      "         0.0183,  0.4856, -0.6538,  0.7225, -0.0260, -0.3061,  0.5367, -0.2631,\n",
      "        -0.6827, -0.7920, -1.3265,  0.0620,  0.7549,  0.8636,  0.1085, -0.0553,\n",
      "         0.8825, -1.2810,  0.0045,  0.1623,  0.0445,  0.0298,  0.5581, -0.1449,\n",
      "        -0.2654,  0.0115,  0.0747,  0.1345, -0.2152, -0.0330, -0.1514, -0.1699,\n",
      "        -0.0823,  2.2886,  1.2619, -0.4281,  0.0818,  0.3485,  0.0686,  0.7434,\n",
      "        -1.6526,  1.9270, -0.6626,  0.4009, -0.5416,  0.2687, -0.3329, -0.7485,\n",
      "         1.0000,  0.0000,  0.0000,  0.0000], device='cuda:0')\n"
     ]
    }
   ],
   "source": [
    "fake = get_image(generator,tag)\n"
   ]
  },
  {
   "cell_type": "code",
   "execution_count": 61,
   "metadata": {},
   "outputs": [],
   "source": [
    "vutils.save_image(fake.data.view(batch_size, 3, imsize, imsize),\n",
    "                    'samples/nnnn_epoch_%03d.png' % k)\n",
    "del fake\n",
    "torch.cuda.empty_cache()"
   ]
  },
  {
   "cell_type": "code",
   "execution_count": 36,
   "metadata": {},
   "outputs": [
    {
     "ename": "AttributeError",
     "evalue": "'list' object has no attribute 'shape'",
     "output_type": "error",
     "traceback": [
      "\u001b[0;31m---------------------------------------------------------------------------\u001b[0m",
      "\u001b[0;31mAttributeError\u001b[0m                            Traceback (most recent call last)",
      "\u001b[0;32m<ipython-input-36-a624103a8104>\u001b[0m in \u001b[0;36m<module>\u001b[0;34m\u001b[0m\n\u001b[0;32m----> 1\u001b[0;31m \u001b[0mtag\u001b[0m\u001b[0;34m.\u001b[0m\u001b[0mshape\u001b[0m\u001b[0;34m\u001b[0m\u001b[0;34m\u001b[0m\u001b[0m\n\u001b[0m",
      "\u001b[0;31mAttributeError\u001b[0m: 'list' object has no attribute 'shape'"
     ]
    }
   ],
   "source": [
    "tag.shape"
   ]
  },
  {
   "cell_type": "code",
   "execution_count": 13,
   "metadata": {},
   "outputs": [],
   "source": [
    "zz = nn.Embedding(batch_size,128)"
   ]
  },
  {
   "cell_type": "code",
   "execution_count": 14,
   "metadata": {},
   "outputs": [],
   "source": [
    "tags = torch.LongTensor(np)"
   ]
  },
  {
   "cell_type": "code",
   "execution_count": 15,
   "metadata": {},
   "outputs": [],
   "source": [
    "em = zz(tags).view(batch_size,-1)"
   ]
  },
  {
   "cell_type": "code",
   "execution_count": 16,
   "metadata": {},
   "outputs": [
    {
     "data": {
      "text/plain": [
       "torch.Size([8, 128])"
      ]
     },
     "execution_count": 16,
     "metadata": {},
     "output_type": "execute_result"
    }
   ],
   "source": [
    "em.data.shape"
   ]
  },
  {
   "cell_type": "code",
   "execution_count": 17,
   "metadata": {},
   "outputs": [
    {
     "data": {
      "text/plain": [
       "tensor([[-1.8662, -0.6780,  0.0629,  ...,  0.2260,  1.9956,  0.6394],\n",
       "        [ 0.2085, -1.5159, -1.6388,  ..., -0.3144, -0.5329,  1.0970],\n",
       "        [-1.8662, -0.6780,  0.0629,  ...,  0.2260,  1.9956,  0.6394],\n",
       "        ...,\n",
       "        [-1.8662, -0.6780,  0.0629,  ...,  0.2260,  1.9956,  0.6394],\n",
       "        [-1.8662, -0.6780,  0.0629,  ...,  0.2260,  1.9956,  0.6394],\n",
       "        [ 0.2085, -1.5159, -1.6388,  ..., -0.3144, -0.5329,  1.0970]])"
      ]
     },
     "execution_count": 17,
     "metadata": {},
     "output_type": "execute_result"
    }
   ],
   "source": [
    "em.data"
   ]
  },
  {
   "cell_type": "code",
   "execution_count": 244,
   "metadata": {},
   "outputs": [],
   "source": [
    "z = Variable(torch.FloatTensor(batch_size, z_dim))\n",
    "tags = Variable(torch.from_numpy(tag)).float()"
   ]
  },
  {
   "cell_type": "code",
   "execution_count": 245,
   "metadata": {},
   "outputs": [],
   "source": [
    "z,tags = z.cuda(),tags.cuda()"
   ]
  },
  {
   "cell_type": "code",
   "execution_count": 246,
   "metadata": {},
   "outputs": [],
   "source": [
    "em = em.cuda()"
   ]
  },
  {
   "cell_type": "code",
   "execution_count": 247,
   "metadata": {},
   "outputs": [
    {
     "data": {
      "text/plain": [
       "tensor([[1., 0., 0., 0., 0., 0., 0., 0., 0., 0., 0., 0.],\n",
       "        [1., 0., 0., 0., 0., 0., 0., 0., 0., 0., 0., 0.],\n",
       "        [1., 0., 0., 0., 0., 0., 0., 0., 0., 0., 0., 0.],\n",
       "        [1., 0., 0., 0., 0., 0., 0., 0., 0., 0., 0., 0.],\n",
       "        [1., 0., 0., 0., 0., 0., 0., 0., 0., 0., 0., 0.],\n",
       "        [1., 0., 0., 0., 0., 0., 0., 0., 0., 0., 0., 0.],\n",
       "        [1., 0., 0., 0., 0., 0., 0., 0., 0., 0., 0., 0.],\n",
       "        [1., 0., 0., 0., 0., 0., 0., 0., 0., 0., 0., 0.]], device='cuda:0')"
      ]
     },
     "execution_count": 247,
     "metadata": {},
     "output_type": "execute_result"
    }
   ],
   "source": [
    "tags.data"
   ]
  },
  {
   "cell_type": "code",
   "execution_count": 248,
   "metadata": {},
   "outputs": [
    {
     "data": {
      "text/plain": [
       "tensor([[-0.6285, -0.9074, -0.6732,  ..., -0.0824,  0.8979,  0.3150],\n",
       "        [ 1.6532,  0.0454, -0.6051,  ...,  1.2805,  0.3189,  0.7304],\n",
       "        [-0.3078,  0.1055,  0.3829,  ..., -0.4702, -0.3605,  2.5386],\n",
       "        ...,\n",
       "        [ 1.6482,  1.3484, -1.5093,  ..., -0.2790, -0.2140, -1.7323],\n",
       "        [ 0.1852, -0.3321,  2.7310,  ..., -2.3765, -0.3010,  0.9341],\n",
       "        [-0.2299, -0.7284, -0.2719,  ...,  0.0997, -0.7901, -1.7075]],\n",
       "       device='cuda:0')"
      ]
     },
     "execution_count": 248,
     "metadata": {},
     "output_type": "execute_result"
    }
   ],
   "source": [
    "z.data.normal_(0, 1)\n",
    "#tags.data.uniform_(to=1) "
   ]
  },
  {
   "cell_type": "code",
   "execution_count": 249,
   "metadata": {},
   "outputs": [],
   "source": [
    "z = z.mul(em)"
   ]
  },
  {
   "cell_type": "code",
   "execution_count": 250,
   "metadata": {},
   "outputs": [
    {
     "data": {
      "text/plain": [
       "tensor([[-9.5876e-01,  4.8204e-03,  4.2808e-01,  ...,  3.2012e-02,\n",
       "         -1.2923e+00,  2.9748e-01],\n",
       "        [ 2.5220e+00, -2.4129e-04,  3.8477e-01,  ..., -4.9731e-01,\n",
       "         -4.5892e-01,  6.8975e-01],\n",
       "        [-4.6957e-01, -5.6054e-04, -2.4349e-01,  ...,  1.8259e-01,\n",
       "          5.1885e-01,  2.3971e+00],\n",
       "        ...,\n",
       "        [ 2.5143e+00, -7.1632e-03,  9.5975e-01,  ...,  1.0835e-01,\n",
       "          3.0794e-01, -1.6358e+00],\n",
       "        [ 2.8248e-01,  1.7644e-03, -1.7367e+00,  ...,  9.2296e-01,\n",
       "          4.3316e-01,  8.8206e-01],\n",
       "        [-3.5076e-01,  3.8694e-03,  1.7287e-01,  ..., -3.8720e-02,\n",
       "          1.1372e+00, -1.6124e+00]], device='cuda:0')"
      ]
     },
     "execution_count": 250,
     "metadata": {},
     "output_type": "execute_result"
    }
   ],
   "source": [
    "z.data"
   ]
  },
  {
   "cell_type": "code",
   "execution_count": 251,
   "metadata": {},
   "outputs": [],
   "source": [
    "rep = torch.cat((z, tags.clone()), 1)\n",
    "fake = generator.forward(rep).detach()"
   ]
  },
  {
   "cell_type": "code",
   "execution_count": 252,
   "metadata": {},
   "outputs": [],
   "source": [
    "epoch = 1\n",
    "vutils.save_image(fake.data.view(batch_size, 3, imsize, imsize),\n",
    "                    'samples/nnnn_epoch_%03d.png' % epoch)"
   ]
  },
  {
   "cell_type": "code",
   "execution_count": 44,
   "metadata": {},
   "outputs": [],
   "source": [
    "allone = [1.0 for i in range(32)]\n",
    "allzero =[0.0 for i in range(32)]"
   ]
  },
  {
   "cell_type": "code",
   "execution_count": 45,
   "metadata": {},
   "outputs": [],
   "source": [
    "aa = np.random.randint(4,size = 8)"
   ]
  },
  {
   "cell_type": "code",
   "execution_count": 46,
   "metadata": {},
   "outputs": [
    {
     "data": {
      "text/plain": [
       "array([2, 0, 2, 1, 2, 0, 3, 3])"
      ]
     },
     "execution_count": 46,
     "metadata": {},
     "output_type": "execute_result"
    }
   ],
   "source": [
    "aa"
   ]
  },
  {
   "cell_type": "code",
   "execution_count": 51,
   "metadata": {},
   "outputs": [],
   "source": []
  },
  {
   "cell_type": "code",
   "execution_count": 52,
   "metadata": {},
   "outputs": [
    {
     "data": {
      "text/plain": [
       "tensor([[0., 0., 0.,  ..., 0., 0., 0.],\n",
       "        [1., 1., 1.,  ..., 0., 0., 0.],\n",
       "        [0., 0., 0.,  ..., 0., 0., 0.],\n",
       "        ...,\n",
       "        [1., 1., 1.,  ..., 0., 0., 0.],\n",
       "        [0., 0., 0.,  ..., 1., 1., 1.],\n",
       "        [0., 0., 0.,  ..., 1., 1., 1.]])"
      ]
     },
     "execution_count": 52,
     "metadata": {},
     "output_type": "execute_result"
    }
   ],
   "source": []
  }
 ],
 "metadata": {
  "kernelspec": {
   "display_name": "Python 3",
   "language": "python",
   "name": "python3"
  },
  "language_info": {
   "codemirror_mode": {
    "name": "ipython",
    "version": 3
   },
   "file_extension": ".py",
   "mimetype": "text/x-python",
   "name": "python",
   "nbconvert_exporter": "python",
   "pygments_lexer": "ipython3",
   "version": "3.6.8"
  }
 },
 "nbformat": 4,
 "nbformat_minor": 2
}
